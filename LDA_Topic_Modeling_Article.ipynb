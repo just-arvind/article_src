{
  "nbformat": 4,
  "nbformat_minor": 0,
  "metadata": {
    "colab": {
      "provenance": [],
      "collapsed_sections": []
    },
    "kernelspec": {
      "name": "python3",
      "display_name": "Python 3"
    },
    "language_info": {
      "name": "python"
    }
  },
  "cells": [
    {
      "cell_type": "markdown",
      "source": [
        "## Data Loading\n",
        "Data Source: https://www.kaggle.com/datasets/therohk/million-headlines"
      ],
      "metadata": {
        "id": "DUCWQM2b150u"
      }
    },
    {
      "cell_type": "code",
      "execution_count": null,
      "metadata": {
        "id": "RXG8T801z7IB"
      },
      "outputs": [],
      "source": [
        "import pandas as pd"
      ]
    },
    {
      "cell_type": "code",
      "source": [
        "data = pd.read_csv('abcnews-date-text.csv')\n",
        "\n",
        "data_text = data[['headline_text']]\n",
        "data_text['index'] = data_text.index\n",
        "\n",
        "documents = data_text"
      ],
      "metadata": {
        "id": "JupnvD7e04St"
      },
      "execution_count": null,
      "outputs": []
    },
    {
      "cell_type": "code",
      "source": [
        "print(len(documents))\n",
        "print(documents[:5])"
      ],
      "metadata": {
        "colab": {
          "base_uri": "https://localhost:8080/"
        },
        "id": "-wPObi0N0A_k",
        "outputId": "1c4f6f67-9851-4b05-e04b-e1aa5480aff1"
      },
      "execution_count": null,
      "outputs": [
        {
          "output_type": "stream",
          "name": "stdout",
          "text": [
            "1244184\n",
            "                                       headline_text  index\n",
            "0  aba decides against community broadcasting lic...      0\n",
            "1     act fire witnesses must be aware of defamation      1\n",
            "2     a g calls for infrastructure protection summit      2\n",
            "3           air nz staff in aust strike for pay rise      3\n",
            "4      air nz strike to affect australian travellers      4\n"
          ]
        }
      ]
    },
    {
      "cell_type": "markdown",
      "source": [
        "## Data Preprocessing"
      ],
      "metadata": {
        "id": "rihAWdlz19wW"
      }
    },
    {
      "cell_type": "code",
      "source": [
        "import gensim\n",
        "from gensim.utils import simple_preprocess\n",
        "from gensim.parsing.preprocessing import STOPWORDS\n",
        "from nltk.stem import WordNetLemmatizer, SnowballStemmer\n",
        "from nltk.stem.porter import *\n",
        "import numpy as np\n",
        "np.random.seed(2018)\n",
        "\n",
        "import nltk\n",
        "nltk.download('wordnet')\n",
        "nltk.download('omw-1.4')"
      ],
      "metadata": {
        "colab": {
          "base_uri": "https://localhost:8080/"
        },
        "id": "D00pbAJf1JAp",
        "outputId": "e21f1d85-06ec-4037-c003-3e65922e413f"
      },
      "execution_count": null,
      "outputs": [
        {
          "output_type": "stream",
          "name": "stderr",
          "text": [
            "[nltk_data] Downloading package wordnet to /root/nltk_data...\n",
            "[nltk_data]   Package wordnet is already up-to-date!\n",
            "[nltk_data] Downloading package omw-1.4 to /root/nltk_data...\n"
          ]
        },
        {
          "output_type": "execute_result",
          "data": {
            "text/plain": [
              "True"
            ]
          },
          "metadata": {},
          "execution_count": 32
        }
      ]
    },
    {
      "cell_type": "code",
      "source": [
        "def lemmatize_stemming(text):\n",
        "    return PorterStemmer().stem(WordNetLemmatizer().lemmatize(text, pos='v'))\n",
        "\n",
        "def preprocess(text):\n",
        "    result = []\n",
        "    for token in gensim.utils.simple_preprocess(text):\n",
        "        if token not in gensim.parsing.preprocessing.STOPWORDS and len(token) > 3:\n",
        "            result.append(lemmatize_stemming(token))\n",
        "    return result"
      ],
      "metadata": {
        "id": "PNFDCwN42Yc5"
      },
      "execution_count": null,
      "outputs": []
    },
    {
      "cell_type": "code",
      "source": [
        "doc_sample = documents[documents['index'] == 4310].values[0][0]\n",
        "print('original document: ')\n",
        "words = []\n",
        "for word in doc_sample.split(' '):\n",
        "    words.append(word)\n",
        "print(words)\n",
        "print('\\n\\n tokenized and lemmatized document: ')\n",
        "print(preprocess(doc_sample))"
      ],
      "metadata": {
        "colab": {
          "base_uri": "https://localhost:8080/"
        },
        "id": "jLrt7Qdb21QD",
        "outputId": "a04ecef3-b760-49c3-a3f8-116f618cbba4"
      },
      "execution_count": null,
      "outputs": [
        {
          "output_type": "stream",
          "name": "stdout",
          "text": [
            "original document: \n",
            "['ratepayers', 'group', 'wants', 'compulsory', 'local', 'govt', 'voting']\n",
            "\n",
            "\n",
            " tokenized and lemmatized document: \n",
            "['ratepay', 'group', 'want', 'compulsori', 'local', 'govt', 'vote']\n"
          ]
        }
      ]
    },
    {
      "cell_type": "code",
      "source": [
        "processed_docs = documents['headline_text'].map(preprocess)\n",
        "processed_docs[:10]"
      ],
      "metadata": {
        "colab": {
          "base_uri": "https://localhost:8080/"
        },
        "id": "IwrqzyDP3Gmu",
        "outputId": "b71bd69a-3bf6-4d16-90db-68b40ee78ff4"
      },
      "execution_count": null,
      "outputs": [
        {
          "output_type": "execute_result",
          "data": {
            "text/plain": [
              "0               [decid, commun, broadcast, licenc]\n",
              "1                               [wit, awar, defam]\n",
              "2           [call, infrastructur, protect, summit]\n",
              "3                      [staff, aust, strike, rise]\n",
              "4             [strike, affect, australian, travel]\n",
              "5               [ambiti, olsson, win, tripl, jump]\n",
              "6           [antic, delight, record, break, barca]\n",
              "7    [aussi, qualifi, stosur, wast, memphi, match]\n",
              "8            [aust, address, secur, council, iraq]\n",
              "9                         [australia, lock, timet]\n",
              "Name: headline_text, dtype: object"
            ]
          },
          "metadata": {},
          "execution_count": 34
        }
      ]
    },
    {
      "cell_type": "markdown",
      "source": [
        "## Bag of Words on the data set"
      ],
      "metadata": {
        "id": "fZPD0ksz3N8c"
      }
    },
    {
      "cell_type": "code",
      "source": [
        "dictionary = gensim.corpora.Dictionary(processed_docs)\n",
        "count = 0\n",
        "for k, v in dictionary.iteritems():\n",
        "    print(k, v)\n",
        "    count += 1\n",
        "    if count > 10:\n",
        "        break"
      ],
      "metadata": {
        "colab": {
          "base_uri": "https://localhost:8080/"
        },
        "id": "T6Fx7Aqd25xv",
        "outputId": "d8353234-c0a1-427e-abda-6cd520336181"
      },
      "execution_count": null,
      "outputs": [
        {
          "output_type": "stream",
          "name": "stdout",
          "text": [
            "0 broadcast\n",
            "1 commun\n",
            "2 decid\n",
            "3 licenc\n",
            "4 awar\n",
            "5 defam\n",
            "6 wit\n",
            "7 call\n",
            "8 infrastructur\n",
            "9 protect\n",
            "10 summit\n"
          ]
        }
      ]
    },
    {
      "cell_type": "code",
      "source": [
        "dictionary.filter_extremes(no_below=15, no_above=0.5, keep_n=100000)"
      ],
      "metadata": {
        "id": "d0wuj6Hf3X6s"
      },
      "execution_count": null,
      "outputs": []
    },
    {
      "cell_type": "code",
      "source": [
        "bow_corpus = [dictionary.doc2bow(doc) for doc in processed_docs]\n",
        "bow_corpus[4310]"
      ],
      "metadata": {
        "colab": {
          "base_uri": "https://localhost:8080/"
        },
        "id": "vhJeq-DE3YpC",
        "outputId": "a7df7fd0-291b-422f-b549-580652b7e922"
      },
      "execution_count": null,
      "outputs": [
        {
          "output_type": "execute_result",
          "data": {
            "text/plain": [
              "[(162, 1), (240, 1), (292, 1), (589, 1), (839, 1), (3579, 1), (3580, 1)]"
            ]
          },
          "metadata": {},
          "execution_count": 37
        }
      ]
    },
    {
      "cell_type": "code",
      "source": [
        "bow_doc_4310 = bow_corpus[4310]\n",
        "for i in range(len(bow_doc_4310)):\n",
        "  print(\"Word {} (\\\"{}\\\") appears {} time.\".format(bow_doc_4310[i][0], \n",
        "                                                  dictionary[bow_doc_4310[i][0]], \n",
        "                                                  bow_doc_4310[i][1]))"
      ],
      "metadata": {
        "colab": {
          "base_uri": "https://localhost:8080/"
        },
        "id": "i5_8z2I63dCm",
        "outputId": "d6ede5fc-98b5-4e92-c3c5-76f88e3ce001"
      },
      "execution_count": null,
      "outputs": [
        {
          "output_type": "stream",
          "name": "stdout",
          "text": [
            "Word 162 (\"govt\") appears 1 time.\n",
            "Word 240 (\"group\") appears 1 time.\n",
            "Word 292 (\"vote\") appears 1 time.\n",
            "Word 589 (\"local\") appears 1 time.\n",
            "Word 839 (\"want\") appears 1 time.\n",
            "Word 3579 (\"compulsori\") appears 1 time.\n",
            "Word 3580 (\"ratepay\") appears 1 time.\n"
          ]
        }
      ]
    },
    {
      "cell_type": "markdown",
      "source": [
        "## Running LDA"
      ],
      "metadata": {
        "id": "jKzTePw84sm_"
      }
    },
    {
      "cell_type": "code",
      "source": [
        "lda_model = gensim.models.LdaMulticore(bow_corpus, num_topics=10, id2word=dictionary, passes=2, workers=2)"
      ],
      "metadata": {
        "id": "vKL0LhYg4QIu"
      },
      "execution_count": null,
      "outputs": []
    },
    {
      "cell_type": "code",
      "source": [
        "for idx, topic in lda_model.print_topics(-1):\n",
        "    print('Topic: {} \\nWords: {}'.format(idx, topic))"
      ],
      "metadata": {
        "colab": {
          "base_uri": "https://localhost:8080/"
        },
        "id": "-_c5hudk4YjK",
        "outputId": "c4abec39-20eb-4006-98c6-5af83b8aae4c"
      },
      "execution_count": null,
      "outputs": [
        {
          "output_type": "stream",
          "name": "stdout",
          "text": [
            "Topic: 0 \n",
            "Words: 0.023*\"attack\" + 0.023*\"market\" + 0.021*\"adelaid\" + 0.019*\"death\" + 0.014*\"dead\" + 0.013*\"releas\" + 0.012*\"fall\" + 0.012*\"hotel\" + 0.011*\"prison\" + 0.010*\"kill\"\n",
            "Topic: 1 \n",
            "Words: 0.038*\"trump\" + 0.024*\"charg\" + 0.021*\"polic\" + 0.021*\"south\" + 0.020*\"news\" + 0.018*\"coast\" + 0.017*\"protest\" + 0.016*\"china\" + 0.014*\"north\" + 0.013*\"rise\"\n",
            "Topic: 2 \n",
            "Words: 0.022*\"world\" + 0.017*\"record\" + 0.016*\"australia\" + 0.011*\"melbourn\" + 0.011*\"street\" + 0.010*\"sydney\" + 0.009*\"talk\" + 0.009*\"drum\" + 0.009*\"beach\" + 0.009*\"win\"\n",
            "Topic: 3 \n",
            "Words: 0.022*\"chang\" + 0.020*\"govern\" + 0.020*\"nation\" + 0.019*\"elect\" + 0.018*\"school\" + 0.018*\"state\" + 0.014*\"plan\" + 0.014*\"feder\" + 0.012*\"announc\" + 0.011*\"council\"\n",
            "Topic: 4 \n",
            "Words: 0.048*\"australian\" + 0.020*\"open\" + 0.017*\"women\" + 0.016*\"australia\" + 0.014*\"leav\" + 0.013*\"morrison\" + 0.010*\"break\" + 0.010*\"interview\" + 0.009*\"game\" + 0.009*\"speak\"\n",
            "Topic: 5 \n",
            "Words: 0.041*\"australia\" + 0.035*\"case\" + 0.032*\"covid\" + 0.025*\"court\" + 0.021*\"live\" + 0.019*\"coronaviru\" + 0.013*\"face\" + 0.012*\"jail\" + 0.011*\"life\" + 0.011*\"andrew\"\n",
            "Topic: 6 \n",
            "Words: 0.036*\"queensland\" + 0.025*\"coronaviru\" + 0.019*\"health\" + 0.015*\"tasmania\" + 0.014*\"say\" + 0.013*\"victorian\" + 0.012*\"worker\" + 0.011*\"minist\" + 0.010*\"care\" + 0.010*\"premier\"\n",
            "Topic: 7 \n",
            "Words: 0.038*\"victoria\" + 0.024*\"coronaviru\" + 0.020*\"covid\" + 0.019*\"border\" + 0.017*\"busi\" + 0.015*\"farmer\" + 0.014*\"kill\" + 0.013*\"travel\" + 0.012*\"million\" + 0.012*\"flood\"\n",
            "Topic: 8 \n",
            "Words: 0.030*\"polic\" + 0.023*\"donald\" + 0.019*\"crash\" + 0.019*\"bushfir\" + 0.017*\"die\" + 0.016*\"home\" + 0.015*\"lockdown\" + 0.014*\"famili\" + 0.014*\"investig\" + 0.014*\"miss\"\n",
            "Topic: 9 \n",
            "Words: 0.030*\"coronaviru\" + 0.027*\"vaccin\" + 0.019*\"brisban\" + 0.018*\"restrict\" + 0.015*\"covid\" + 0.015*\"water\" + 0.012*\"power\" + 0.012*\"quarantin\" + 0.011*\"local\" + 0.011*\"budget\"\n"
          ]
        }
      ]
    }
  ]
}